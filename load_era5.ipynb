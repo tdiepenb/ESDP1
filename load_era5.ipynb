{
 "cells": [
  {
   "cell_type": "markdown",
   "id": "4dd28121-3e2b-4e8c-b771-657a48d283c3",
   "metadata": {},
   "source": [
    "# Download ERA5 data for METFUT\n",
    "\n",
    "1. Understand the task: METFUT would like to train ML models on subsets of ERA5 data. For this, we should retrieve snapshots of individual variables on single model levels at 12-hourly resolution. The variable names/ids, model levels, and time ranges will be given to us.\n",
    "2. Read through the [ERA5 documentation](https://cds.climate.copernicus.eu/cdsapp#!/dataset/reanalysis-era5-complete?tab=form) to understand the data structure and identify, which data/access point we need.\n",
    "3. Install the CDS API.\n",
    "   * For this, we first need to register at [Copernicus Data Store](https://cds.climate.copernicus.eu/user/register?destination=%2F%23!%2Fhome).\n",
    "   * Next copy and store your API key in file ```$HOME/.cdsapirc```. You find it at the bottom of your personal profile when you are logged in the CDS. Format:\n",
    "```\n",
    "url: https://cds.climate.copernicus.eu/api/v2\n",
    "key: {uid}:{api-key}\n",
    "```\n",
    "   *Install the CDS API via ```pip install cdsapi```\n",
    "   * Read through the [instructions](https://cds.climate.copernicus.eu/api-how-to) on how to use the cdsapi (bottom half of web page))\n",
    "5.Browse through the [ERA5 data catalogue](https://apps.ecmwf.int/data-catalogues/era5/?class=ea) and select the fields you want to download.\n",
    "6. After composing your search, click on \"Show API request\" and copy the commands into your notebook.\n",
    "\n",
    "Please make sure to limit the download to 5.625 degree resolution and 12-hourly samples! Select Netcdf as output format. "
   ]
  },
  {
   "cell_type": "code",
   "execution_count": 11,
   "id": "d0a0efa4-16b2-4878-a86b-7f40e24e3fca",
   "metadata": {},
   "outputs": [
    {
     "name": "stdout",
     "output_type": "stream",
     "text": [
      "Defaulting to user installation because normal site-packages is not writeable\n",
      "Requirement already satisfied: cdsapi in /home/jupyter-mschultz/.local/lib/python3.10/site-packages (0.6.1)\n",
      "Requirement already satisfied: requests>=2.5.0 in /opt/tljh/user/lib/python3.10/site-packages (from cdsapi) (2.28.2)\n",
      "Requirement already satisfied: tqdm in /opt/tljh/user/lib/python3.10/site-packages (from cdsapi) (4.65.0)\n",
      "Requirement already satisfied: charset-normalizer<4,>=2 in /opt/tljh/user/lib/python3.10/site-packages (from requests>=2.5.0->cdsapi) (3.1.0)\n",
      "Requirement already satisfied: idna<4,>=2.5 in /opt/tljh/user/lib/python3.10/site-packages (from requests>=2.5.0->cdsapi) (3.4)\n",
      "Requirement already satisfied: urllib3<1.27,>=1.21.1 in /opt/tljh/user/lib/python3.10/site-packages (from requests>=2.5.0->cdsapi) (1.26.15)\n",
      "Requirement already satisfied: certifi>=2017.4.17 in /opt/tljh/user/lib/python3.10/site-packages (from requests>=2.5.0->cdsapi) (2023.7.22)\n",
      "\u001B[33mWARNING: Error parsing requirements for numpy: [Errno 2] No such file or directory: '/opt/tljh/user/lib/python3.10/site-packages/numpy-1.25.2.dist-info/METADATA'\u001B[0m\u001B[33m\n",
      "\u001B[0m\n",
      "\u001B[1m[\u001B[0m\u001B[34;49mnotice\u001B[0m\u001B[1;39;49m]\u001B[0m\u001B[39;49m A new release of pip is available: \u001B[0m\u001B[31;49m23.2.1\u001B[0m\u001B[39;49m -> \u001B[0m\u001B[32;49m24.0\u001B[0m\n",
      "\u001B[1m[\u001B[0m\u001B[34;49mnotice\u001B[0m\u001B[1;39;49m]\u001B[0m\u001B[39;49m To update, run: \u001B[0m\u001B[32;49mpip install --upgrade pip\u001B[0m\n",
      "Defaulting to user installation because normal site-packages is not writeable\n",
      "Collecting xarray\n",
      "  Obtaining dependency information for xarray from https://files.pythonhosted.org/packages/f7/fe/c4d15ac730b2bcdd530e4bc6491958c53237eb573dba4eec3ad31ff0519a/xarray-2024.3.0-py3-none-any.whl.metadata\n",
      "  Using cached xarray-2024.3.0-py3-none-any.whl.metadata (11 kB)\n",
      "Requirement already satisfied: numpy>=1.23 in /opt/tljh/user/lib/python3.10/site-packages (from xarray) (1.25.2)\n",
      "Requirement already satisfied: packaging>=22 in /opt/tljh/user/lib/python3.10/site-packages (from xarray) (22.0)\n",
      "Requirement already satisfied: pandas>=1.5 in /opt/tljh/user/lib/python3.10/site-packages (from xarray) (2.0.3)\n",
      "\u001B[31mERROR: Could not install packages due to an OSError: [Errno 2] No such file or directory: '/opt/tljh/user/lib/python3.10/site-packages/numpy-1.25.2.dist-info/METADATA'\n",
      "\u001B[0m\u001B[31m\n",
      "\u001B[0m\n",
      "\u001B[1m[\u001B[0m\u001B[34;49mnotice\u001B[0m\u001B[1;39;49m]\u001B[0m\u001B[39;49m A new release of pip is available: \u001B[0m\u001B[31;49m23.2.1\u001B[0m\u001B[39;49m -> \u001B[0m\u001B[32;49m24.0\u001B[0m\n",
      "\u001B[1m[\u001B[0m\u001B[34;49mnotice\u001B[0m\u001B[1;39;49m]\u001B[0m\u001B[39;49m To update, run: \u001B[0m\u001B[32;49mpip install --upgrade pip\u001B[0m\n"
     ]
    }
   ],
   "source": [
    "# install modules\n",
    "!pip install cdsapi\n",
    "!pip install xarray"
   ]
  },
  {
   "cell_type": "markdown",
   "id": "b2b8bb7a-302f-420c-8fe4-7a603a774dff",
   "metadata": {},
   "source": [
    "__Note:__ The following works with the ipynb kernel, but not with the METCLOUD kernel. The first try might raise an error telling you that you must first accept the use conditions (follow the link at the bottom). Thereafter, it should work."
   ]
  },
  {
   "cell_type": "code",
   "execution_count": 3,
   "id": "3954d5c4-f5ec-4965-8ab3-429e01dbef84",
   "metadata": {},
   "outputs": [
    {
     "name": "stderr",
     "output_type": "stream",
     "text": [
      "2024-04-17 08:56:25,545 INFO Welcome to the CDS\n",
      "2024-04-17 08:56:25,547 INFO Sending request to https://cds.climate.copernicus.eu/api/v2/resources/reanalysis-era5-complete\n",
      "2024-04-17 08:56:25,597 INFO Request is queued\n",
      "2024-04-17 08:56:58,009 INFO Request is running\n",
      "2024-04-17 08:57:15,145 INFO Request is completed\n",
      "2024-04-17 08:57:15,147 INFO Downloading https://download-0010-clone.copernicus-climate.eu/cache-compute-0010/cache/data9/adaptor.mars.external-1713344217.7449307-12310-16-70d5e74c-505c-4317-a14c-df5268f779bc.grib to output (24.3M)\n",
      "2024-04-17 08:57:22,256 INFO Download rate 3.4M/s   \n"
     ]
    },
    {
     "data": {
      "text/plain": [
       "Result(content_length=25504320,content_type=application/x-grib,location=https://download-0010-clone.copernicus-climate.eu/cache-compute-0010/cache/data9/adaptor.mars.external-1713344217.7449307-12310-16-70d5e74c-505c-4317-a14c-df5268f779bc.grib)"
      ]
     },
     "execution_count": 3,
     "metadata": {},
     "output_type": "execute_result"
    }
   ],
   "source": [
    "# Exemplary MARS request after composing through the web interface\n",
    "# shortened from 1 month to 3 days\n",
    "import cdsapi\n",
    "\n",
    "c = cdsapi.Client()\n",
    "\"\"\"\n",
    "c.retrieve(\"reanalysis-era5-complete\", {\n",
    "    \"class\": \"ea\",\n",
    "    \"date\": \"2023-01-01/to/2023-01-31\",\n",
    "    \"expver\": \"1\",\n",
    "    \"levelist\": \"137\",\n",
    "    \"levtype\": \"ml\",\n",
    "    \"param\": \"130\",\n",
    "    \"step\": \"0\",\n",
    "    \"stream\": \"oper\",\n",
    "    \"time\": \"21:00:00\",\n",
    "    \"type\": \"4v\"\n",
    "}, \"output\")\n",
    "\n",
    "# if successful, you shall see a new file named ```output``` in your current directory.\n",
    "\"\"\""
   ]
  },
  {
   "cell_type": "markdown",
   "id": "fe741e5b-7d5b-408a-a7d0-13589dd25de1",
   "metadata": {},
   "source": [
    "## Customize requests \n",
    "Now, we need to modify the request to obtain what we really want:\n",
    "* time 09:00 and 21:00\n",
    "* 5.625 degree resolution\n",
    "* Netcdf output\n",
    "\n",
    "Check the [Guidelines for efficient MARS requests](https://confluence.ecmwf.int/display/UDOC/Guidelines+to+write+efficient+MARS+requests) how to make these modifications."
   ]
  },
  {
   "cell_type": "markdown",
   "id": "cc0b27ea-b7b9-47bb-ab3a-f7fb43481792",
   "metadata": {},
   "source": [
    "Question: how to use \"list\" and \"output = cost\" in cdsapi?\n",
    "\n",
    "See also [MARS user documentation](https://confluence.ecmwf.int/display/UDOC/MARS+user+documentation)\n",
    "\n",
    "From efficiency guide: loop structure should be\n",
    "```\n",
    "date (outer loop)\n",
    "   time\n",
    "      step\n",
    "         number (EPS only)\n",
    "            level\n",
    "               parameter (inner loop)\n",
    "```\n",
    "Try to issue the MARS request at the highest level possible."
   ]
  },
  {
   "cell_type": "code",
   "execution_count": 6,
   "id": "e38e27ef-9350-4137-af4f-91059dca92f9",
   "metadata": {},
   "outputs": [
    {
     "name": "stderr",
     "output_type": "stream",
     "text": [
      "2024-04-17 09:17:33,383 INFO Welcome to the CDS\n",
      "2024-04-17 09:17:33,385 INFO Sending request to https://cds.climate.copernicus.eu/api/v2/resources/reanalysis-era5-complete\n",
      "2024-04-17 09:17:33,459 INFO Request is queued\n",
      "2024-04-17 09:17:46,838 INFO Request is running\n",
      "2024-04-17 09:17:54,470 INFO Request is completed\n",
      "2024-04-17 09:17:54,472 INFO Downloading https://download-0014-clone.copernicus-climate.eu/cache-compute-0014/cache/data7/adaptor.mars.external-1713345467.772383-14742-15-2ee82435-64a1-498a-8d39-be02fc3de4da.nc to test.nc (26.2K)\n",
      "2024-04-17 09:17:54,679 INFO Download rate 128.2K/s\n"
     ]
    },
    {
     "data": {
      "text/plain": [
       "Result(content_length=26864,content_type=application/x-netcdf,location=https://download-0014-clone.copernicus-climate.eu/cache-compute-0014/cache/data7/adaptor.mars.external-1713345467.772383-14742-15-2ee82435-64a1-498a-8d39-be02fc3de4da.nc)"
      ]
     },
     "execution_count": 6,
     "metadata": {},
     "output_type": "execute_result"
    }
   ],
   "source": [
    "c.retrieve(\"reanalysis-era5-complete\", {\n",
    "    \"class\": \"ea\",\n",
    "    \"date\": \"2023-01-01/to/2023-01-03\",\n",
    "    \"expver\": \"1\",\n",
    "    \"levelist\": \"137\",\n",
    "    \"levtype\": \"ml\",\n",
    "    \"grid\": \"5.625/5.625\",\n",
    "    \"param\": \"130\",\n",
    "    \"step\": \"0\",\n",
    "    \"stream\": \"oper\",\n",
    "    \"time\": \"09:00:00/21:00:00\",\n",
    "    \"type\": \"4v\",\n",
    "    \"format\": \"netcdf\"\n",
    "}, \"test.nc\")"
   ]
  },
  {
   "cell_type": "code",
   "execution_count": 14,
   "id": "b6d32746-1581-4a79-ba53-633d7ae37f0f",
   "metadata": {},
   "outputs": [],
   "source": [
    "# ncdump -t -v latitude,longitude,time test.nc\n",
    "# shows that this worked fine."
   ]
  },
  {
   "cell_type": "code",
   "execution_count": 12,
   "id": "cace911a-f171-46c7-a71b-c4c51dfc091f",
   "metadata": {},
   "outputs": [
    {
     "ename": "ModuleNotFoundError",
     "evalue": "No module named 'xarray'",
     "output_type": "error",
     "traceback": [
      "\u001B[0;31m---------------------------------------------------------------------------\u001B[0m",
      "\u001B[0;31mModuleNotFoundError\u001B[0m                       Traceback (most recent call last)",
      "Cell \u001B[0;32mIn[12], line 1\u001B[0m\n\u001B[0;32m----> 1\u001B[0m \u001B[38;5;28;01mimport\u001B[39;00m \u001B[38;5;21;01mxarray\u001B[39;00m\n",
      "\u001B[0;31mModuleNotFoundError\u001B[0m: No module named 'xarray'"
     ]
    }
   ],
   "source": [
    "import xarray"
   ]
  },
  {
   "cell_type": "code",
   "execution_count": null,
   "id": "7692fead-bcd6-4c0b-a2f1-5af347c2e0d1",
   "metadata": {},
   "outputs": [],
   "source": []
  },
  {
   "cell_type": "code",
   "execution_count": null,
   "id": "c2fb33a8-30f8-4274-a467-11f7aeb847a5",
   "metadata": {},
   "outputs": [],
   "source": []
  }
 ],
 "metadata": {
  "kernelspec": {
   "display_name": "Python 3 (ipykernel)",
   "language": "python",
   "name": "python3"
  },
  "language_info": {
   "codemirror_mode": {
    "name": "ipython",
    "version": 3
   },
   "file_extension": ".py",
   "mimetype": "text/x-python",
   "name": "python",
   "nbconvert_exporter": "python",
   "pygments_lexer": "ipython3",
   "version": "3.10.10"
  }
 },
 "nbformat": 4,
 "nbformat_minor": 5
}
