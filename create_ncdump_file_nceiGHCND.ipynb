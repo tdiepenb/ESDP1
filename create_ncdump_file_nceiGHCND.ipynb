{
 "cells": [
  {
   "cell_type": "code",
   "id": "initial_id",
   "metadata": {
    "collapsed": true,
    "ExecuteTime": {
     "end_time": "2024-07-29T22:30:07.352853Z",
     "start_time": "2024-07-29T22:30:07.338372Z"
    }
   },
   "source": [
    "from netCDF4 import Dataset\n",
    "import datetime"
   ],
   "outputs": [],
   "execution_count": 12
  },
  {
   "metadata": {
    "ExecuteTime": {
     "end_time": "2024-07-29T22:30:07.885374Z",
     "start_time": "2024-07-29T22:30:07.871050Z"
    }
   },
   "cell_type": "code",
   "source": "filePath = \"ghcnd_daily_by_year_meta_data.nc\"",
   "id": "fd5953b183277598",
   "outputs": [],
   "execution_count": 13
  },
  {
   "metadata": {
    "ExecuteTime": {
     "end_time": "2024-07-29T22:30:08.501354Z",
     "start_time": "2024-07-29T22:30:08.487887Z"
    }
   },
   "cell_type": "code",
   "source": "nc_file = Dataset(filePath, \"w\", format=\"NETCDF4\", clobber=True)",
   "id": "fa6cbb38196d9e36",
   "outputs": [],
   "execution_count": 14
  },
  {
   "metadata": {
    "ExecuteTime": {
     "end_time": "2024-07-29T22:30:09.343542Z",
     "start_time": "2024-07-29T22:30:09.326617Z"
    }
   },
   "cell_type": "code",
   "source": "print(nc_file)",
   "id": "21fd8939664082cc",
   "outputs": [
    {
     "name": "stdout",
     "output_type": "stream",
     "text": [
      "<class 'netCDF4._netCDF4.Dataset'>\n",
      "root group (NETCDF4 data model, file format HDF5):\n",
      "    dimensions(sizes): \n",
      "    variables(dimensions): \n",
      "    groups: \n"
     ]
    }
   ],
   "execution_count": 15
  },
  {
   "metadata": {
    "ExecuteTime": {
     "end_time": "2024-07-29T22:30:10.407756Z",
     "start_time": "2024-07-29T22:30:10.398969Z"
    }
   },
   "cell_type": "code",
   "source": [
    "# Global attributes\n",
    "nc_file.title = 'GHCN Daily Metadata by Year'\n",
    "nc_file.institution = 'National Centers for Environmental Information (NCEI)'\n",
    "nc_file.source = 'Global Historical Climatology Network (GHCN) Daily'\n",
    "nc_file.history = f'Created {datetime.datetime.now().strftime(\"%Y-%m-%d %H:%M:%S\")}'\n",
    "nc_file.references = 'More information: https://www.ncei.noaa.gov/products/land-based-station/global-historical-climatology-network-daily  The Data can be found here: https://www.ncei.noaa.gov/pub/data/ghcn/daily/by_year/'\n",
    "nc_file.comment = 'This dataset follows the FAIR principles for scientific data management and stewardship.'\n",
    "nc_file.identifier = '10.7289/V5D21VHZ'\n",
    "nc_file.documentation = 'https://www.ncei.noaa.gov/pub/data/ghcn/daily/readme.txt'\n",
    "\n",
    "#create dimensions. Not quite sure about this\n",
    "#nc_file.createDimension('STATION_LENGTH', 11)\n",
    "\n",
    "#Create variables\n",
    "station_id = nc_file.createVariable('STATION_ID', 'str')\n",
    "#station_id = nc_file.createVariable('STATION_ID', 'str', ('STATION_LENGTH',))\n",
    "station_id.long_name = 'Station Identification Code'\n",
    "station_id.description = '11 character station identification code'\n",
    "station_id.comment = 'The corresponding station codes can be found here: https://www.ncei.noaa.gov/pub/data/ghcn/daily/ghcnd-stations.txt'\n",
    "\n",
    "year = nc_file.createVariable('DATE', 'str')\n",
    "year.long_name = 'Date of the observation'\n",
    "year.description = '8 character date in YYYYMMDD format (e.g. 19860529 = May 29, 1986)'\n",
    "\n",
    "element = nc_file.createVariable('ELEMENT', 'str')\n",
    "element.long_name = 'Element Type'\n",
    "element.description = ''''\n",
    "Core elements:\n",
    "PRCP = Precipitation (tenths of mm)\n",
    "SNOW = Snowfall (mm)\n",
    "SNWD = Snow depth (mm)\n",
    "TMAX = Maximum temperature (tenths of degrees C)\n",
    "TMIN = Minimum temperature (tenths of degrees C)\n",
    "Additional elements: ACMC, ACMH, ACSC, ACSH, ADPT, ASLP, ASTP, AWBT, AWDR, AWND, DAEV, DAPR, DASF, DATN, DATX, DAWM, DWPR, EVAP, FMTM, FRGB, FRGT, FRTH, GAHT, MDEV, MDPR, MDSF, MDTN, MDTX, MDWM, MNPN, MXPN, PGTM, PSUN, RHAV, RHMN, RHMX, SN*#, SX*#, TAXN, TAVG, THIC, TOBS, TSUN, WDF1, WDF2, WDF5, WDFG, WDFI, WDFM, WDMV, WESD, WESF, WSF1, WSF2, WSF5, WSFG, WSFI, WSFM, WT**, WV**\n",
    "'''\n",
    "element.comment = 'Core and additional elements as described in the GHCN Daily documentation file'\n",
    "\n",
    "value = nc_file.createVariable('VALUE', 'i4')\n",
    "value.long_name = 'Parameter Value'\n",
    "value.units = 'variable-specific units'\n",
    "value.missing_value = -9999\n",
    "value.description = 'Value of the Parameter'\n",
    "value.comment = 'Units can be found in the documentation file for each parameter'\n",
    "\n",
    "mflag = nc_file.createVariable('MFLAG', 'str')\n",
    "mflag.long_name = 'Measurement Flag'\n",
    "mflag.description = '''\n",
    "Measurement flags:\n",
    "Blank = no measurement information applicable\n",
    "B     = precipitation total formed from two 12-hour totals\n",
    "D     = precipitation total formed from four six-hour totals\n",
    "H     = represents highest or lowest hourly temperature (TMAX or TMIN) or the average of hourly values (TAVG)\n",
    "K     = converted from knots \n",
    "L     = temperature appears to be lagged with respect to reported hour of observation \n",
    "O     = converted from oktas \n",
    "P     = identified as \"missing presumed zero\" in DSI 3200 and 3206\n",
    "T     = trace of precipitation, snowfall, or snow depth\n",
    "W     = converted from 16-point WBAN code (for wind direction)\n",
    "'''\n",
    "\n",
    "qflag = nc_file.createVariable('QFLAG', 'str')\n",
    "qflag.long_name = 'Quality Flag for the First Day of the Month'\n",
    "qflag.description = '''\n",
    "Quality flags:\n",
    "Blank = did not fail any quality assurance check\n",
    "D     = failed duplicate check\n",
    "G     = failed gap check\n",
    "I     = failed internal consistency check\n",
    "K     = failed streak/frequent-value check\n",
    "L     = failed check on length of multiday period \n",
    "M     = failed megaconsistency check\n",
    "N     = failed naught check\n",
    "O     = failed climatological outlier check\n",
    "R     = failed lagged range check\n",
    "S     = failed spatial consistency check\n",
    "T     = failed temporal consistency check\n",
    "W     = temperature too warm for snow\n",
    "X     = failed bounds check\n",
    "Z     = flagged as a result of an official Datzilla investigation\n",
    "'''\n",
    "\n",
    "sflag = nc_file.createVariable('SFLAG', 'str')\n",
    "sflag.long_name = 'Source Flag for the First Day of the Month'\n",
    "sflag.description = '''\n",
    "Source flags:\n",
    "Blank = No source (i.e., data value missing)\n",
    "0     = U.S. Cooperative Summary of the Day (NCDC DSI-3200)\n",
    "6     = CDMP Cooperative Summary of the Day (NCDC DSI-3206)\n",
    "7     = U.S. Cooperative Summary of the Day -- Transmitted via WxCoder3 (NCDC DSI-3207)\n",
    "A     = U.S. Automated Surface Observing System (ASOS) real-time data (since January 1, 2006)\n",
    "a     = Australian data from the Australian Bureau of Meteorology\n",
    "B     = U.S. ASOS data for October 2000-December 2005 (NCDC DSI-3211)\n",
    "b     = Belarus update\n",
    "C     = Environment Canada\n",
    "D     = Short time delay US National Weather Service CF6 daily summaries provided by the High Plains Regional Climate Center\n",
    "E     = European Climate Assessment and Dataset (Klein Tank et al., 2002)\n",
    "F     = U.S. Fort data \n",
    "G     = Official Global Climate Observing System (GCOS) or other government-supplied data\n",
    "H     = High Plains Regional Climate Center real-time data\n",
    "I     = International collection (non U.S. data received through personal contacts)\n",
    "K     = U.S. Cooperative Summary of the Day data digitized from paper observer forms (from 2011 to present)\n",
    "M     = Monthly METAR Extract (additional ASOS data)\n",
    "f     = Data provided courtesy of the Fiji Met Service\n",
    "m     = Data from the Mexican National Water Commission (Comision National del Agua -- CONAGUA)\n",
    "N     = Community Collaborative Rain, Hail,and Snow (CoCoRaHS)\n",
    "Q     = Data from several African countries that had been \"quarantined\", that is, withheld from public release until permission was granted from the respective meteorological services\n",
    "R     = NCEI Reference Network Database (Climate Reference Network and Regional Climate Reference Network)\n",
    "r     = All-Russian Research Institute of Hydrometeorological Information-World Data Center\n",
    "S     = Global Summary of the Day (NCDC DSI-9618)\n",
    "s     = China Meteorological Administration/National Meteorological Information Center/ Climatic Data Center (http://cdc.cma.gov.cn)\n",
    "T     = SNOwpack TELemtry (SNOTEL) data obtained from the U.S. Department of Agriculture's Natural Resources Conservation Service\n",
    "U     = Remote Automatic Weather Station (RAWS) data obtained from the Western Regional Climate Center\n",
    "u     = Ukraine update\t   \n",
    "W     = WBAN/ASOS Summary of the Day from NCDC's Integrated Surface Data (ISD).  \n",
    "X     = U.S. First-Order Summary of the Day (NCDC DSI-3210)\n",
    "Z     = Datzilla official additions or replacements \n",
    "z     = Uzbekistan update\n",
    "\n",
    "When data are available for the same time from more than one source, the highest priority source is chosen according to the following priority order (from highest to lowest):\n",
    "Z,R,D,0,6,C,X,W,K,7,F,B,M,f,m,r,E,z,u,b,s,a,G,Q,I,A,N,T,U,H,S\n",
    "'''"
   ],
   "id": "4df2de39eb53b8ac",
   "outputs": [],
   "execution_count": 16
  },
  {
   "metadata": {
    "ExecuteTime": {
     "end_time": "2024-07-29T22:30:11.471807Z",
     "start_time": "2024-07-29T22:30:11.467537Z"
    }
   },
   "cell_type": "code",
   "source": "print(nc_file)",
   "id": "922f69e9bf7db365",
   "outputs": [
    {
     "name": "stdout",
     "output_type": "stream",
     "text": [
      "<class 'netCDF4._netCDF4.Dataset'>\n",
      "root group (NETCDF4 data model, file format HDF5):\n",
      "    title: GHCN Daily Metadata by Year\n",
      "    institution: National Centers for Environmental Information (NCEI)\n",
      "    source: Global Historical Climatology Network (GHCN) Daily\n",
      "    history: Created 2024-07-30 00:30:10\n",
      "    references: More information: https://www.ncei.noaa.gov/products/land-based-station/global-historical-climatology-network-daily  The Data can be found here: https://www.ncei.noaa.gov/pub/data/ghcn/daily/by_year/\n",
      "    comment: This dataset follows the FAIR principles for scientific data management and stewardship.\n",
      "    identifier: 10.7289/V5D21VHZ\n",
      "    documentation: https://www.ncei.noaa.gov/pub/data/ghcn/daily/readme.txt\n",
      "    dimensions(sizes): SAMPLE_ID(0)\n",
      "    variables(dimensions): <class 'str'> STATION_ID(), <class 'str'> DATE(), <class 'str'> ELEMENT(), int32 VALUE(), <class 'str'> MFLAG(), <class 'str'> QFLAG(), <class 'str'> SFLAG()\n",
      "    groups: \n"
     ]
    }
   ],
   "execution_count": 17
  },
  {
   "metadata": {
    "ExecuteTime": {
     "end_time": "2024-07-29T22:30:13.078670Z",
     "start_time": "2024-07-29T22:30:13.068539Z"
    }
   },
   "cell_type": "code",
   "source": [
    "# Close the dataset\n",
    "nc_file.close()"
   ],
   "id": "ead320dd76c3be3c",
   "outputs": [],
   "execution_count": 18
  },
  {
   "metadata": {
    "ExecuteTime": {
     "end_time": "2024-07-29T22:35:35.742565Z",
     "start_time": "2024-07-29T22:35:35.722411Z"
    }
   },
   "cell_type": "code",
   "source": [
    "\n",
    "fileTest = Dataset(filePath, 'r', format='NETCDF4')\n",
    "print(fileTest.variables)"
   ],
   "id": "a5aebe6e6aa009ac",
   "outputs": [
    {
     "name": "stdout",
     "output_type": "stream",
     "text": [
      "{'STATION_ID': <class 'netCDF4._netCDF4.Variable'>\n",
      "vlen STATION_ID()\n",
      "    long_name: Station Identification Code\n",
      "    description: 11 character station identification code\n",
      "    comment: The corresponding station codes can be found here: https://www.ncei.noaa.gov/pub/data/ghcn/daily/ghcnd-stations.txt\n",
      "vlen data type: <class 'str'>\n",
      "unlimited dimensions: \n",
      "current shape = (), 'DATE': <class 'netCDF4._netCDF4.Variable'>\n",
      "vlen DATE()\n",
      "    long_name: Date of the observation\n",
      "    description: 8 character date in YYYYMMDD format (e.g. 19860529 = May 29, 1986)\n",
      "vlen data type: <class 'str'>\n",
      "unlimited dimensions: \n",
      "current shape = (), 'ELEMENT': <class 'netCDF4._netCDF4.Variable'>\n",
      "vlen ELEMENT()\n",
      "    long_name: Element Type\n",
      "    description: '\n",
      "Core elements:\n",
      "PRCP = Precipitation (tenths of mm)\n",
      "SNOW = Snowfall (mm)\n",
      "SNWD = Snow depth (mm)\n",
      "TMAX = Maximum temperature (tenths of degrees C)\n",
      "TMIN = Minimum temperature (tenths of degrees C)\n",
      "Additional elements: ACMC, ACMH, ACSC, ACSH, ADPT, ASLP, ASTP, AWBT, AWDR, AWND, DAEV, DAPR, DASF, DATN, DATX, DAWM, DWPR, EVAP, FMTM, FRGB, FRGT, FRTH, GAHT, MDEV, MDPR, MDSF, MDTN, MDTX, MDWM, MNPN, MXPN, PGTM, PSUN, RHAV, RHMN, RHMX, SN*#, SX*#, TAXN, TAVG, THIC, TOBS, TSUN, WDF1, WDF2, WDF5, WDFG, WDFI, WDFM, WDMV, WESD, WESF, WSF1, WSF2, WSF5, WSFG, WSFI, WSFM, WT**, WV**\n",
      "\n",
      "    comment: Core and additional elements as described in the GHCN Daily documentation file\n",
      "vlen data type: <class 'str'>\n",
      "unlimited dimensions: \n",
      "current shape = (), 'VALUE': <class 'netCDF4._netCDF4.Variable'>\n",
      "int32 VALUE()\n",
      "    long_name: Parameter Value\n",
      "    units: variable-specific units\n",
      "    missing_value: -9999\n",
      "    description: Value of the Parameter\n",
      "    comment: Units can be found in the documentation file for each parameter\n",
      "unlimited dimensions: \n",
      "current shape = ()\n",
      "filling on, default _FillValue of -2147483647 used, 'MFLAG': <class 'netCDF4._netCDF4.Variable'>\n",
      "vlen MFLAG()\n",
      "    long_name: Measurement Flag\n",
      "    description: \n",
      "Measurement flags:\n",
      "Blank = no measurement information applicable\n",
      "B     = precipitation total formed from two 12-hour totals\n",
      "D     = precipitation total formed from four six-hour totals\n",
      "H     = represents highest or lowest hourly temperature (TMAX or TMIN) or the average of hourly values (TAVG)\n",
      "K     = converted from knots \n",
      "L     = temperature appears to be lagged with respect to reported hour of observation \n",
      "O     = converted from oktas \n",
      "P     = identified as \"missing presumed zero\" in DSI 3200 and 3206\n",
      "T     = trace of precipitation, snowfall, or snow depth\n",
      "W     = converted from 16-point WBAN code (for wind direction)\n",
      "\n",
      "vlen data type: <class 'str'>\n",
      "unlimited dimensions: \n",
      "current shape = (), 'QFLAG': <class 'netCDF4._netCDF4.Variable'>\n",
      "vlen QFLAG()\n",
      "    long_name: Quality Flag for the First Day of the Month\n",
      "    description: \n",
      "Quality flags:\n",
      "Blank = did not fail any quality assurance check\n",
      "D     = failed duplicate check\n",
      "G     = failed gap check\n",
      "I     = failed internal consistency check\n",
      "K     = failed streak/frequent-value check\n",
      "L     = failed check on length of multiday period \n",
      "M     = failed megaconsistency check\n",
      "N     = failed naught check\n",
      "O     = failed climatological outlier check\n",
      "R     = failed lagged range check\n",
      "S     = failed spatial consistency check\n",
      "T     = failed temporal consistency check\n",
      "W     = temperature too warm for snow\n",
      "X     = failed bounds check\n",
      "Z     = flagged as a result of an official Datzilla investigation\n",
      "\n",
      "vlen data type: <class 'str'>\n",
      "unlimited dimensions: \n",
      "current shape = (), 'SFLAG': <class 'netCDF4._netCDF4.Variable'>\n",
      "vlen SFLAG()\n",
      "    long_name: Source Flag for the First Day of the Month\n",
      "    description: \n",
      "Source flags:\n",
      "Blank = No source (i.e., data value missing)\n",
      "0     = U.S. Cooperative Summary of the Day (NCDC DSI-3200)\n",
      "6     = CDMP Cooperative Summary of the Day (NCDC DSI-3206)\n",
      "7     = U.S. Cooperative Summary of the Day -- Transmitted via WxCoder3 (NCDC DSI-3207)\n",
      "A     = U.S. Automated Surface Observing System (ASOS) real-time data (since January 1, 2006)\n",
      "a     = Australian data from the Australian Bureau of Meteorology\n",
      "B     = U.S. ASOS data for October 2000-December 2005 (NCDC DSI-3211)\n",
      "b     = Belarus update\n",
      "C     = Environment Canada\n",
      "D     = Short time delay US National Weather Service CF6 daily summaries provided by the High Plains Regional Climate Center\n",
      "E     = European Climate Assessment and Dataset (Klein Tank et al., 2002)\n",
      "F     = U.S. Fort data \n",
      "G     = Official Global Climate Observing System (GCOS) or other government-supplied data\n",
      "H     = High Plains Regional Climate Center real-time data\n",
      "I     = International collection (non U.S. data received through personal contacts)\n",
      "K     = U.S. Cooperative Summary of the Day data digitized from paper observer forms (from 2011 to present)\n",
      "M     = Monthly METAR Extract (additional ASOS data)\n",
      "f     = Data provided courtesy of the Fiji Met Service\n",
      "m     = Data from the Mexican National Water Commission (Comision National del Agua -- CONAGUA)\n",
      "N     = Community Collaborative Rain, Hail,and Snow (CoCoRaHS)\n",
      "Q     = Data from several African countries that had been \"quarantined\", that is, withheld from public release until permission was granted from the respective meteorological services\n",
      "R     = NCEI Reference Network Database (Climate Reference Network and Regional Climate Reference Network)\n",
      "r     = All-Russian Research Institute of Hydrometeorological Information-World Data Center\n",
      "S     = Global Summary of the Day (NCDC DSI-9618)\n",
      "s     = China Meteorological Administration/National Meteorological Information Center/ Climatic Data Center (http://cdc.cma.gov.cn)\n",
      "T     = SNOwpack TELemtry (SNOTEL) data obtained from the U.S. Department of Agriculture's Natural Resources Conservation Service\n",
      "U     = Remote Automatic Weather Station (RAWS) data obtained from the Western Regional Climate Center\n",
      "u     = Ukraine update\t   \n",
      "W     = WBAN/ASOS Summary of the Day from NCDC's Integrated Surface Data (ISD).  \n",
      "X     = U.S. First-Order Summary of the Day (NCDC DSI-3210)\n",
      "Z     = Datzilla official additions or replacements \n",
      "z     = Uzbekistan update\n",
      "\n",
      "When data are available for the same time from more than one source, the highest priority source is chosen according to the following priority order (from highest to lowest):\n",
      "Z,R,D,0,6,C,X,W,K,7,F,B,M,f,m,r,E,z,u,b,s,a,G,Q,I,A,N,T,U,H,S\n",
      "\n",
      "vlen data type: <class 'str'>\n",
      "unlimited dimensions: \n",
      "current shape = ()}\n"
     ]
    }
   ],
   "execution_count": 22
  },
  {
   "metadata": {},
   "cell_type": "code",
   "outputs": [],
   "execution_count": null,
   "source": "",
   "id": "55096bd9e172b1ce"
  }
 ],
 "metadata": {
  "kernelspec": {
   "display_name": "Python 3",
   "language": "python",
   "name": "python3"
  },
  "language_info": {
   "codemirror_mode": {
    "name": "ipython",
    "version": 2
   },
   "file_extension": ".py",
   "mimetype": "text/x-python",
   "name": "python",
   "nbconvert_exporter": "python",
   "pygments_lexer": "ipython2",
   "version": "2.7.6"
  }
 },
 "nbformat": 4,
 "nbformat_minor": 5
}
