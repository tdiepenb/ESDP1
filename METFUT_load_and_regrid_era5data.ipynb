{
 "cells": [
  {
   "metadata": {},
   "cell_type": "markdown",
   "source": [
    "## METFUT Load and Regrid ERA5 Data\n",
    "\n",
    "THis notebook provides procedures to download, regrid and display ERA5 datasets from the Copernicus Data Storage using the CDS api. These procedures were developed to support METFUT in their goal to train ML models on subsets of ERA5 data.\n"
   ],
   "id": "4d131aad319694f"
  },
  {
   "metadata": {},
   "cell_type": "markdown",
   "source": [
    "For the cds API to work properly you will need to register an account at the [Copernicus Data Store](https://cds.climate.copernicus.eu/user/register?destination=%2F%23!%2Fhome) and create a file in your ```$HOME/``` directory called ```.cdsapirc``` which contains your API key (which you can find at the bottom of your personal profile) in the following format:\n",
    "```\n",
    "url: https://cds.climate.copernicus.eu/api/v2\n",
    "key: {uid}:{api-key}\n",
    "```"
   ],
   "id": "1e6ba60d08165045"
  },
  {
   "metadata": {},
   "cell_type": "markdown",
   "source": [
    "For this notebook to work you will need the following python modules installed in your python kernel:\n",
    "- cdsapi\n",
    "- xarray\n",
    "- numpy\n",
    "- pandas\n",
    "- matplotlib\n",
    "- cartopy\n",
    "- netCDF4\n",
    "\n",
    "please use the following command to install these packages:\n",
    "\n",
    "```pip install cdsapi xarray numpy pandas matplotlib cartopy netCDF4```"
   ],
   "id": "ac2cd1737d0756ed"
  },
  {
   "cell_type": "code",
   "id": "initial_id",
   "metadata": {
    "collapsed": true,
    "ExecuteTime": {
     "end_time": "2024-05-16T08:59:48.703476Z",
     "start_time": "2024-05-16T08:59:48.694617Z"
    }
   },
   "source": [
    "#import statements\n",
    "import os, time\n",
    "import cdsapi\n",
    "import xarray as xr\n",
    "import numpy as np\n",
    "import pandas as pd\n",
    "import matplotlib.pyplot as plt\n",
    "import cartopy.crs as ccrs\n",
    "from datetime import datetime\n",
    "\n",
    "#create cds client\n",
    "cds = cdsapi.Client()"
   ],
   "outputs": [],
   "execution_count": 3
  },
  {
   "metadata": {},
   "cell_type": "markdown",
   "source": [
    "## User Input\n",
    "Change the following strings to correspond to your project path. The project_path defines where the in_file and grid_file are located and where the out_file will be saved to.\n",
    "\n",
    "If you are working on a Windows machine you will need to install a linux subsystem using wsl (https://learn.microsoft.com/en-us/windows/wsl/install). In this case set the wsl variable to True. If you are on a Unix (macOs or Linux machine) set this to false. Make sure you have CDO installed either on the linux subsystem if using wsl or on your machine if using a Unix machine. (https://code.mpimet.mpg.de/projects/cdo/wiki/Win32)\n"
   ],
   "id": "6274485676c063e9"
  },
  {
   "metadata": {
    "ExecuteTime": {
     "end_time": "2024-05-16T22:01:46.084529Z",
     "start_time": "2024-05-16T22:01:46.076206Z"
    }
   },
   "cell_type": "code",
   "source": [
    "#the path to your project on your machine. Depending on if you are working on a linux, mac or windows machine, this path will look very different\n",
    "project_path = \"/mnt/c/users/maoka/PycharmProjects/EarthSystemDataProcessing/ESDP1/\"\n",
    "\n",
    "#the path to the directory to which the data is downloaded from the CDS, that we want to regrid and the name of the file we want to regrid\n",
    "input_path = \"/mnt/c/users/maoka/PycharmProjects/EarthSystemDataProcessing/ESDP1/input/\"\n",
    "in_file = \"t2m_230101_9-21_5-625.nc\"\n",
    "\n",
    "#the path to the ouput directory where the regridded data is saved and the name of the regridded file\n",
    "output_path = \"/mnt/c/users/maoka/PycharmProjects/EarthSystemDataProcessing/ESDP1/output/\"\n",
    "out_file = \"regrid_data.nc\"\n",
    "\n",
    "#the path to where the various files containing the information about the grid we want to regrid to is stored and the name of the grid file we want to regrid to\n",
    "grid_path = \"/mnt/c/users/maoka/PycharmProjects/EarthSystemDataProcessing/ESDP1/grids/\"\n",
    "grid_file = \"icon_grid_0019_R02B05_G.nc\"\n",
    "\n",
    "#wether or not you are using the windows wsl linux subsystem. if you are working on a Unix (macOs or Linux machine set this to false)\n",
    "wsl = True"
   ],
   "id": "ae37014e861803dd",
   "outputs": [],
   "execution_count": 24
  },
  {
   "metadata": {},
   "cell_type": "markdown",
   "source": "Defining functions that can be used by the user:",
   "id": "2ec33e2ec4123d8d"
  },
  {
   "metadata": {
    "ExecuteTime": {
     "end_time": "2024-05-16T22:06:16.361184Z",
     "start_time": "2024-05-16T22:06:16.339734Z"
    }
   },
   "cell_type": "code",
   "source": [
    "def downloadFromCDS(file_path, file_name, date_string, time_string, step_string, param_string, grid_string):\n",
    "    \"\"\"\n",
    "    Downloads data from CDS and saves it as netcdf file to the specified location (file_path) with the specified name (file_name).\n",
    "    \n",
    "    :param file_path: the path to the directory where the downloaded data should be saved\n",
    "    :param file_name: the name of the downloaded data file\n",
    "    :param date_string: a string specifying the date of the data to be downloaded \"YYYY-MM-DD/YYYY-MM-DD\" (e.g. 2023-01-01/2023-01-02 for the 1st and 2nd of january) \n",
    "    :param time_string: a string specifying the time of the data to be downloaded \"HH:MM:SS/HH:MM:SS\" (e.g. 09:00:00/21:00:00 for 9 am and 9 pm)\n",
    "    :param step_string: a string specifying the hourly time step from the specified time (time_string) that should be additionally downloaded between 0 and 12. (e.g. \"0\" for just the specified times in time_string, \"0/4/8\" for the times 9am, 1pm,5pm, 9pm, 1am, 5am)\n",
    "    :param param_string: the string of the parameter variable to be downloaded (e.g. \"167.128\" for 2 meter temperature or \"168.128\" for 2 meter dewpoint temperature)\n",
    "    :param grid_string: a string specifying the grid resolution to be downloaded in latitude and longitude format (e.g. 5.625/5.625 for 5.625 degree resolution)\n",
    "    :return: empty return statement\n",
    "    \"\"\"\n",
    "    \n",
    "    output_path = os.path.join(file_path, file_name)\n",
    "    \n",
    "    cds.retrieve(\"reanalysis-era5-complete\", {\n",
    "        \"class\": \"ea\",\n",
    "        \"date\": f'{date_string}',\n",
    "        \"expver\": \"1\",\n",
    "        \"levtype\": \"sfc\",\n",
    "        \"grid\": f'{grid_string}',\n",
    "        \"param\": f'{param_string}',\n",
    "        \"step\": f'{step_string}',\n",
    "        \"stream\": \"oper\",\n",
    "        \"time\": f'{time_string}',\n",
    "        \"type\": \"4v\",\n",
    "        \"format\": \"netcdf\",\n",
    "    }, f'{output_path}')\n",
    "    \n",
    "    return\n",
    "\n",
    "\n",
    "def limitLatLon():\n",
    "    \n",
    "    pass\n",
    "\n",
    "\n",
    "def convertGridToIconGrid(in_path, in_name, out_path, out_name, grid_path, grid_name, wsl):\n",
    "    \"\"\"\n",
    "    Converts the grid of an input file to the grid specified by grid_path and grid_name and saves it in out_path + out_name. If cdo runs on wsl because you are using a windows machine you set wsl to true.\n",
    "\n",
    "    :param in_path: string path to where the input file is located\n",
    "    :param in_name: file name of the input .nc file to be converted\n",
    "    :param out_path: string path to where the output .nc file should be saved\n",
    "    :param out_name: file name under which the output file should be saved\n",
    "    :param grid_path: string path to where the grid .nc file that we want the in file to be converted to is located\n",
    "    :param grid_name: file name of the grid file that we want the in file to be converted\n",
    "    :param wsl: boolean flag specifying whether to use WSL or not.\n",
    "    \n",
    "    :return: returns a data object of the regridded .nc file loaded with xarray.\n",
    "    \"\"\"\n",
    "\n",
    "    infile = os.path.join(in_path, in_name)\n",
    "    outfile = os.path.join(out_path, out_name)\n",
    "    gridfile = os.path.join(grid_path, grid_name)\n",
    "\n",
    "    cmd = f\"{'wsl' if wsl else ''} cdo remapbil,{gridfile} -setgridtype,curvilinear {infile} {outfile}\"\n",
    "    print(cmd)\n",
    "    time_start = time.time()\n",
    "    print(time_start)\n",
    "    !{cmd}\n",
    "    time_end = time.time()\n",
    "    print(time_end)\n",
    "    output = xr.open_dataset(out_name, engine='netcdf4')\n",
    "    return output\n",
    "\n",
    "\n",
    "def plotIconTemperatureGraph(ds, step):\n",
    "    \"\"\"\n",
    "    plotIconTemperatureGraph plots the t2m data in the ds file for the specified time (step is index of time array).\n",
    "\n",
    "    :param ds: data object of a icongrid data object that contains our t2m information\n",
    "    :param step: the index of the time array which specifies the time that we want to plot\n",
    "    \n",
    "    :return: empty\n",
    "    \"\"\"\n",
    "\n",
    "    ti = ds[\"time\"].values[step]\n",
    "    date_time_obj = ti.astype(\"datetime64[ms]\").astype(datetime).strftime('%Y-%m-%d %H:%M:%S')\n",
    "    var = ds[\"t2m\"].values[step]\n",
    "    var = var - 273.15\n",
    "    clon = np.rad2deg(ds.clon.values)\n",
    "    clat = np.rad2deg(ds.clat.values)\n",
    "    varMin, varMax, varInt = np.floor(np.nanmin(var)), np.ceil(np.nanmax(var)), 2\n",
    "    levels = np.arange(varMin, varMax + varInt, varInt)\n",
    "    nlevs = levels.size\n",
    "    labels = ['{:.2f}'.format(x) for x in levels]\n",
    "    print('')\n",
    "    print('Cells:            %6d ' % clon.size)\n",
    "    print('Variable min/max: %6.2f ' % np.nanmin(var) + '/' + ' %.2f' % np.nanmax(var))\n",
    "    print('Contour  min/max: %6.2f ' % varMin + '/' + ' %.2f' % varMax)\n",
    "    print('Date and Time:    %10s ' % date_time_obj)\n",
    "    print('')\n",
    "    projection = ccrs.PlateCarree()\n",
    "    cmap = plt.get_cmap('Spectral_r', nlevs)\n",
    "    fig, ax = plt.subplots(figsize=(10, 10), subplot_kw=dict(projection=projection))\n",
    "    ax.set_global()\n",
    "    ax.gridlines(draw_labels=True, linewidth=0.5, color='dimgray', alpha=0.4, zorder=2)\n",
    "    ax.coastlines(linewidth=0.5, zorder=2)\n",
    "    plt.title(f\"Surface Temperature at {date_time_obj}\")\n",
    "    cnf = ax.tricontourf(clon, clat, var, vmin=varMin, vmax=varMax, levels=levels, cmap=cmap, extend='neither',\n",
    "                         zorder=0)\n",
    "    cbar_ax = fig.add_axes([0.2, 0.25, 0.6, 0.015], autoscalex_on=True)\n",
    "    cbar = fig.colorbar(cnf, cax=cbar_ax, orientation='horizontal')\n",
    "    plt.setp(cbar.ax.get_xticklabels()[::2], visible=False)\n",
    "    cbar.set_label('[deg C]')\n",
    "    return\n"
   ],
   "id": "cd4a1931687b9362",
   "outputs": [],
   "execution_count": 28
  },
  {
   "metadata": {},
   "cell_type": "markdown",
   "source": "Example execution of the workflow:",
   "id": "6921531705ad8edb"
  },
  {
   "metadata": {
    "ExecuteTime": {
     "end_time": "2024-05-16T22:03:35.089724Z",
     "start_time": "2024-05-16T22:03:33.601356Z"
    }
   },
   "cell_type": "code",
   "source": "downloadFromCDS(file_path=\"input/\", file_name=in_file, date_string=\"2023-01-01\", time_string=\"09:00:00/21:00:00\", step_string=\"0\", param_string=\"167.128\", grid_string=\"5.625/5.625\")",
   "id": "5fa837f6589cceb3",
   "outputs": [
    {
     "name": "stderr",
     "output_type": "stream",
     "text": [
      "2024-05-17 00:03:34,311 INFO Welcome to the CDS\n",
      "2024-05-17 00:03:34,313 INFO Sending request to https://cds.climate.copernicus.eu/api/v2/resources/reanalysis-era5-complete\n",
      "2024-05-17 00:03:34,393 INFO Downloading https://download-0009-clone.copernicus-climate.eu/cache-compute-0009/cache/data3/adaptor.mars.external-1715896916.3052025-20969-5-8538b9b2-8189-4aca-8c03-7185f3bfad5f.nc to input/t2m_230101_9-21_5-625.nc (9.7K)\n",
      "2024-05-17 00:03:35,049 INFO Download rate 14.8K/s\n"
     ]
    }
   ],
   "execution_count": 26
  },
  {
   "metadata": {
    "ExecuteTime": {
     "end_time": "2024-05-16T22:04:31.304834Z",
     "start_time": "2024-05-16T22:04:28.423658Z"
    }
   },
   "cell_type": "code",
   "source": [
    "iconds = convertGridToIconGrid(in_path=input_path, in_name=in_file, out_path=output_path, out_name=out_file,\n",
    "                               grid_path=grid_path, grid_name=grid_file, wsl=wsl)\n",
    "iconds\n"
   ],
   "id": "df0c814ef9f0f73a",
   "outputs": [
    {
     "name": "stdout",
     "output_type": "stream",
     "text": [
      "wsl cdo remapbil,/mnt/c/users/maoka/PycharmProjects/EarthSystemDataProcessing/ESDP1/grids/icon_grid_0019_R02B05_G.nc -setgridtype,curvilinear /mnt/c/users/maoka/PycharmProjects/EarthSystemDataProcessing/ESDP1/input/t2m_230101_9-21_5-625.nc /mnt/c/users/maoka/PycharmProjects/EarthSystemDataProcessing/ESDP1/output/regrid_data.nc\n",
      "1715897068.4293132\n",
      "cdo(1) setgridtype: Process started\n",
      "cdo    remapbil: Bilinear weights from curvilinear (64x33) to unstructured (81920) grid\n",
      "cdo(1) setgridtype: Processed 4224 values from 1 variable over 2 timesteps.\n",
      "cdo    remapbil: Processed 4224 values from 1 variable over 2 timesteps [1.93s 90MB].\n",
      "1715897070.8410451\n"
     ]
    },
    {
     "ename": "FileNotFoundError",
     "evalue": "[Errno 2] No such file or directory: 'C:\\\\mnt\\\\c\\\\users\\\\maoka\\\\PycharmProjects\\\\EarthSystemDataProcessing\\\\ESDP1\\\\output\\\\regrid_data.nc'",
     "output_type": "error",
     "traceback": [
      "\u001B[1;31m---------------------------------------------------------------------------\u001B[0m",
      "\u001B[1;31mKeyError\u001B[0m                                  Traceback (most recent call last)",
      "File \u001B[1;32m~\\PycharmProjects\\EarthSystemDataProcessing\\ESDP1\\.venv\\Lib\\site-packages\\xarray\\backends\\file_manager.py:211\u001B[0m, in \u001B[0;36mCachingFileManager._acquire_with_cache_info\u001B[1;34m(self, needs_lock)\u001B[0m\n\u001B[0;32m    210\u001B[0m \u001B[38;5;28;01mtry\u001B[39;00m:\n\u001B[1;32m--> 211\u001B[0m     file \u001B[38;5;241m=\u001B[39m \u001B[38;5;28;43mself\u001B[39;49m\u001B[38;5;241;43m.\u001B[39;49m\u001B[43m_cache\u001B[49m\u001B[43m[\u001B[49m\u001B[38;5;28;43mself\u001B[39;49m\u001B[38;5;241;43m.\u001B[39;49m\u001B[43m_key\u001B[49m\u001B[43m]\u001B[49m\n\u001B[0;32m    212\u001B[0m \u001B[38;5;28;01mexcept\u001B[39;00m \u001B[38;5;167;01mKeyError\u001B[39;00m:\n",
      "File \u001B[1;32m~\\PycharmProjects\\EarthSystemDataProcessing\\ESDP1\\.venv\\Lib\\site-packages\\xarray\\backends\\lru_cache.py:56\u001B[0m, in \u001B[0;36mLRUCache.__getitem__\u001B[1;34m(self, key)\u001B[0m\n\u001B[0;32m     55\u001B[0m \u001B[38;5;28;01mwith\u001B[39;00m \u001B[38;5;28mself\u001B[39m\u001B[38;5;241m.\u001B[39m_lock:\n\u001B[1;32m---> 56\u001B[0m     value \u001B[38;5;241m=\u001B[39m \u001B[38;5;28;43mself\u001B[39;49m\u001B[38;5;241;43m.\u001B[39;49m\u001B[43m_cache\u001B[49m\u001B[43m[\u001B[49m\u001B[43mkey\u001B[49m\u001B[43m]\u001B[49m\n\u001B[0;32m     57\u001B[0m     \u001B[38;5;28mself\u001B[39m\u001B[38;5;241m.\u001B[39m_cache\u001B[38;5;241m.\u001B[39mmove_to_end(key)\n",
      "\u001B[1;31mKeyError\u001B[0m: [<class 'netCDF4._netCDF4.Dataset'>, ('C:\\\\mnt\\\\c\\\\users\\\\maoka\\\\PycharmProjects\\\\EarthSystemDataProcessing\\\\ESDP1\\\\output\\\\regrid_data.nc',), 'r', (('clobber', True), ('diskless', False), ('format', 'NETCDF4'), ('persist', False)), 'f44a6743-c89a-49dc-9a3c-07ee16e55f48']",
      "\nDuring handling of the above exception, another exception occurred:\n",
      "\u001B[1;31mFileNotFoundError\u001B[0m                         Traceback (most recent call last)",
      "Cell \u001B[1;32mIn[27], line 1\u001B[0m\n\u001B[1;32m----> 1\u001B[0m iconds \u001B[38;5;241m=\u001B[39m \u001B[43mconvertGridToIconGrid\u001B[49m\u001B[43m(\u001B[49m\u001B[43min_path\u001B[49m\u001B[38;5;241;43m=\u001B[39;49m\u001B[43minput_path\u001B[49m\u001B[43m,\u001B[49m\u001B[43m \u001B[49m\u001B[43min_name\u001B[49m\u001B[38;5;241;43m=\u001B[39;49m\u001B[43min_file\u001B[49m\u001B[43m,\u001B[49m\u001B[43m \u001B[49m\u001B[43mout_path\u001B[49m\u001B[38;5;241;43m=\u001B[39;49m\u001B[43moutput_path\u001B[49m\u001B[43m,\u001B[49m\u001B[43m \u001B[49m\u001B[43mout_name\u001B[49m\u001B[38;5;241;43m=\u001B[39;49m\u001B[43mout_file\u001B[49m\u001B[43m,\u001B[49m\n\u001B[0;32m      2\u001B[0m \u001B[43m                               \u001B[49m\u001B[43mgrid_path\u001B[49m\u001B[38;5;241;43m=\u001B[39;49m\u001B[43mgrid_path\u001B[49m\u001B[43m,\u001B[49m\u001B[43m \u001B[49m\u001B[43mgrid_name\u001B[49m\u001B[38;5;241;43m=\u001B[39;49m\u001B[43mgrid_file\u001B[49m\u001B[43m,\u001B[49m\u001B[43m \u001B[49m\u001B[43mwsl\u001B[49m\u001B[38;5;241;43m=\u001B[39;49m\u001B[43mwsl\u001B[49m\u001B[43m)\u001B[49m\n\u001B[0;32m      3\u001B[0m iconds\n",
      "Cell \u001B[1;32mIn[23], line 64\u001B[0m, in \u001B[0;36mconvertGridToIconGrid\u001B[1;34m(in_path, in_name, out_path, out_name, grid_path, grid_name, wsl)\u001B[0m\n\u001B[0;32m     62\u001B[0m time_end \u001B[38;5;241m=\u001B[39m time\u001B[38;5;241m.\u001B[39mtime()\n\u001B[0;32m     63\u001B[0m \u001B[38;5;28mprint\u001B[39m(time_end)\n\u001B[1;32m---> 64\u001B[0m output \u001B[38;5;241m=\u001B[39m \u001B[43mxr\u001B[49m\u001B[38;5;241;43m.\u001B[39;49m\u001B[43mopen_dataset\u001B[49m\u001B[43m(\u001B[49m\u001B[43moutfile\u001B[49m\u001B[43m)\u001B[49m\n\u001B[0;32m     65\u001B[0m \u001B[38;5;28;01mreturn\u001B[39;00m output\n",
      "File \u001B[1;32m~\\PycharmProjects\\EarthSystemDataProcessing\\ESDP1\\.venv\\Lib\\site-packages\\xarray\\backends\\api.py:573\u001B[0m, in \u001B[0;36mopen_dataset\u001B[1;34m(filename_or_obj, engine, chunks, cache, decode_cf, mask_and_scale, decode_times, decode_timedelta, use_cftime, concat_characters, decode_coords, drop_variables, inline_array, chunked_array_type, from_array_kwargs, backend_kwargs, **kwargs)\u001B[0m\n\u001B[0;32m    561\u001B[0m decoders \u001B[38;5;241m=\u001B[39m _resolve_decoders_kwargs(\n\u001B[0;32m    562\u001B[0m     decode_cf,\n\u001B[0;32m    563\u001B[0m     open_backend_dataset_parameters\u001B[38;5;241m=\u001B[39mbackend\u001B[38;5;241m.\u001B[39mopen_dataset_parameters,\n\u001B[1;32m   (...)\u001B[0m\n\u001B[0;32m    569\u001B[0m     decode_coords\u001B[38;5;241m=\u001B[39mdecode_coords,\n\u001B[0;32m    570\u001B[0m )\n\u001B[0;32m    572\u001B[0m overwrite_encoded_chunks \u001B[38;5;241m=\u001B[39m kwargs\u001B[38;5;241m.\u001B[39mpop(\u001B[38;5;124m\"\u001B[39m\u001B[38;5;124moverwrite_encoded_chunks\u001B[39m\u001B[38;5;124m\"\u001B[39m, \u001B[38;5;28;01mNone\u001B[39;00m)\n\u001B[1;32m--> 573\u001B[0m backend_ds \u001B[38;5;241m=\u001B[39m \u001B[43mbackend\u001B[49m\u001B[38;5;241;43m.\u001B[39;49m\u001B[43mopen_dataset\u001B[49m\u001B[43m(\u001B[49m\n\u001B[0;32m    574\u001B[0m \u001B[43m    \u001B[49m\u001B[43mfilename_or_obj\u001B[49m\u001B[43m,\u001B[49m\n\u001B[0;32m    575\u001B[0m \u001B[43m    \u001B[49m\u001B[43mdrop_variables\u001B[49m\u001B[38;5;241;43m=\u001B[39;49m\u001B[43mdrop_variables\u001B[49m\u001B[43m,\u001B[49m\n\u001B[0;32m    576\u001B[0m \u001B[43m    \u001B[49m\u001B[38;5;241;43m*\u001B[39;49m\u001B[38;5;241;43m*\u001B[39;49m\u001B[43mdecoders\u001B[49m\u001B[43m,\u001B[49m\n\u001B[0;32m    577\u001B[0m \u001B[43m    \u001B[49m\u001B[38;5;241;43m*\u001B[39;49m\u001B[38;5;241;43m*\u001B[39;49m\u001B[43mkwargs\u001B[49m\u001B[43m,\u001B[49m\n\u001B[0;32m    578\u001B[0m \u001B[43m\u001B[49m\u001B[43m)\u001B[49m\n\u001B[0;32m    579\u001B[0m ds \u001B[38;5;241m=\u001B[39m _dataset_from_backend_dataset(\n\u001B[0;32m    580\u001B[0m     backend_ds,\n\u001B[0;32m    581\u001B[0m     filename_or_obj,\n\u001B[1;32m   (...)\u001B[0m\n\u001B[0;32m    591\u001B[0m     \u001B[38;5;241m*\u001B[39m\u001B[38;5;241m*\u001B[39mkwargs,\n\u001B[0;32m    592\u001B[0m )\n\u001B[0;32m    593\u001B[0m \u001B[38;5;28;01mreturn\u001B[39;00m ds\n",
      "File \u001B[1;32m~\\PycharmProjects\\EarthSystemDataProcessing\\ESDP1\\.venv\\Lib\\site-packages\\xarray\\backends\\netCDF4_.py:646\u001B[0m, in \u001B[0;36mNetCDF4BackendEntrypoint.open_dataset\u001B[1;34m(self, filename_or_obj, mask_and_scale, decode_times, concat_characters, decode_coords, drop_variables, use_cftime, decode_timedelta, group, mode, format, clobber, diskless, persist, lock, autoclose)\u001B[0m\n\u001B[0;32m    625\u001B[0m \u001B[38;5;28;01mdef\u001B[39;00m \u001B[38;5;21mopen_dataset\u001B[39m(  \u001B[38;5;66;03m# type: ignore[override]  # allow LSP violation, not supporting **kwargs\u001B[39;00m\n\u001B[0;32m    626\u001B[0m     \u001B[38;5;28mself\u001B[39m,\n\u001B[0;32m    627\u001B[0m     filename_or_obj: \u001B[38;5;28mstr\u001B[39m \u001B[38;5;241m|\u001B[39m os\u001B[38;5;241m.\u001B[39mPathLike[Any] \u001B[38;5;241m|\u001B[39m BufferedIOBase \u001B[38;5;241m|\u001B[39m AbstractDataStore,\n\u001B[1;32m   (...)\u001B[0m\n\u001B[0;32m    643\u001B[0m     autoclose\u001B[38;5;241m=\u001B[39m\u001B[38;5;28;01mFalse\u001B[39;00m,\n\u001B[0;32m    644\u001B[0m ) \u001B[38;5;241m-\u001B[39m\u001B[38;5;241m>\u001B[39m Dataset:\n\u001B[0;32m    645\u001B[0m     filename_or_obj \u001B[38;5;241m=\u001B[39m _normalize_path(filename_or_obj)\n\u001B[1;32m--> 646\u001B[0m     store \u001B[38;5;241m=\u001B[39m \u001B[43mNetCDF4DataStore\u001B[49m\u001B[38;5;241;43m.\u001B[39;49m\u001B[43mopen\u001B[49m\u001B[43m(\u001B[49m\n\u001B[0;32m    647\u001B[0m \u001B[43m        \u001B[49m\u001B[43mfilename_or_obj\u001B[49m\u001B[43m,\u001B[49m\n\u001B[0;32m    648\u001B[0m \u001B[43m        \u001B[49m\u001B[43mmode\u001B[49m\u001B[38;5;241;43m=\u001B[39;49m\u001B[43mmode\u001B[49m\u001B[43m,\u001B[49m\n\u001B[0;32m    649\u001B[0m \u001B[43m        \u001B[49m\u001B[38;5;28;43mformat\u001B[39;49m\u001B[38;5;241;43m=\u001B[39;49m\u001B[38;5;28;43mformat\u001B[39;49m\u001B[43m,\u001B[49m\n\u001B[0;32m    650\u001B[0m \u001B[43m        \u001B[49m\u001B[43mgroup\u001B[49m\u001B[38;5;241;43m=\u001B[39;49m\u001B[43mgroup\u001B[49m\u001B[43m,\u001B[49m\n\u001B[0;32m    651\u001B[0m \u001B[43m        \u001B[49m\u001B[43mclobber\u001B[49m\u001B[38;5;241;43m=\u001B[39;49m\u001B[43mclobber\u001B[49m\u001B[43m,\u001B[49m\n\u001B[0;32m    652\u001B[0m \u001B[43m        \u001B[49m\u001B[43mdiskless\u001B[49m\u001B[38;5;241;43m=\u001B[39;49m\u001B[43mdiskless\u001B[49m\u001B[43m,\u001B[49m\n\u001B[0;32m    653\u001B[0m \u001B[43m        \u001B[49m\u001B[43mpersist\u001B[49m\u001B[38;5;241;43m=\u001B[39;49m\u001B[43mpersist\u001B[49m\u001B[43m,\u001B[49m\n\u001B[0;32m    654\u001B[0m \u001B[43m        \u001B[49m\u001B[43mlock\u001B[49m\u001B[38;5;241;43m=\u001B[39;49m\u001B[43mlock\u001B[49m\u001B[43m,\u001B[49m\n\u001B[0;32m    655\u001B[0m \u001B[43m        \u001B[49m\u001B[43mautoclose\u001B[49m\u001B[38;5;241;43m=\u001B[39;49m\u001B[43mautoclose\u001B[49m\u001B[43m,\u001B[49m\n\u001B[0;32m    656\u001B[0m \u001B[43m    \u001B[49m\u001B[43m)\u001B[49m\n\u001B[0;32m    658\u001B[0m     store_entrypoint \u001B[38;5;241m=\u001B[39m StoreBackendEntrypoint()\n\u001B[0;32m    659\u001B[0m     \u001B[38;5;28;01mwith\u001B[39;00m close_on_error(store):\n",
      "File \u001B[1;32m~\\PycharmProjects\\EarthSystemDataProcessing\\ESDP1\\.venv\\Lib\\site-packages\\xarray\\backends\\netCDF4_.py:409\u001B[0m, in \u001B[0;36mNetCDF4DataStore.open\u001B[1;34m(cls, filename, mode, format, group, clobber, diskless, persist, lock, lock_maker, autoclose)\u001B[0m\n\u001B[0;32m    403\u001B[0m kwargs \u001B[38;5;241m=\u001B[39m \u001B[38;5;28mdict\u001B[39m(\n\u001B[0;32m    404\u001B[0m     clobber\u001B[38;5;241m=\u001B[39mclobber, diskless\u001B[38;5;241m=\u001B[39mdiskless, persist\u001B[38;5;241m=\u001B[39mpersist, \u001B[38;5;28mformat\u001B[39m\u001B[38;5;241m=\u001B[39m\u001B[38;5;28mformat\u001B[39m\n\u001B[0;32m    405\u001B[0m )\n\u001B[0;32m    406\u001B[0m manager \u001B[38;5;241m=\u001B[39m CachingFileManager(\n\u001B[0;32m    407\u001B[0m     netCDF4\u001B[38;5;241m.\u001B[39mDataset, filename, mode\u001B[38;5;241m=\u001B[39mmode, kwargs\u001B[38;5;241m=\u001B[39mkwargs\n\u001B[0;32m    408\u001B[0m )\n\u001B[1;32m--> 409\u001B[0m \u001B[38;5;28;01mreturn\u001B[39;00m \u001B[38;5;28;43mcls\u001B[39;49m\u001B[43m(\u001B[49m\u001B[43mmanager\u001B[49m\u001B[43m,\u001B[49m\u001B[43m \u001B[49m\u001B[43mgroup\u001B[49m\u001B[38;5;241;43m=\u001B[39;49m\u001B[43mgroup\u001B[49m\u001B[43m,\u001B[49m\u001B[43m \u001B[49m\u001B[43mmode\u001B[49m\u001B[38;5;241;43m=\u001B[39;49m\u001B[43mmode\u001B[49m\u001B[43m,\u001B[49m\u001B[43m \u001B[49m\u001B[43mlock\u001B[49m\u001B[38;5;241;43m=\u001B[39;49m\u001B[43mlock\u001B[49m\u001B[43m,\u001B[49m\u001B[43m \u001B[49m\u001B[43mautoclose\u001B[49m\u001B[38;5;241;43m=\u001B[39;49m\u001B[43mautoclose\u001B[49m\u001B[43m)\u001B[49m\n",
      "File \u001B[1;32m~\\PycharmProjects\\EarthSystemDataProcessing\\ESDP1\\.venv\\Lib\\site-packages\\xarray\\backends\\netCDF4_.py:356\u001B[0m, in \u001B[0;36mNetCDF4DataStore.__init__\u001B[1;34m(self, manager, group, mode, lock, autoclose)\u001B[0m\n\u001B[0;32m    354\u001B[0m \u001B[38;5;28mself\u001B[39m\u001B[38;5;241m.\u001B[39m_group \u001B[38;5;241m=\u001B[39m group\n\u001B[0;32m    355\u001B[0m \u001B[38;5;28mself\u001B[39m\u001B[38;5;241m.\u001B[39m_mode \u001B[38;5;241m=\u001B[39m mode\n\u001B[1;32m--> 356\u001B[0m \u001B[38;5;28mself\u001B[39m\u001B[38;5;241m.\u001B[39mformat \u001B[38;5;241m=\u001B[39m \u001B[38;5;28;43mself\u001B[39;49m\u001B[38;5;241;43m.\u001B[39;49m\u001B[43mds\u001B[49m\u001B[38;5;241m.\u001B[39mdata_model\n\u001B[0;32m    357\u001B[0m \u001B[38;5;28mself\u001B[39m\u001B[38;5;241m.\u001B[39m_filename \u001B[38;5;241m=\u001B[39m \u001B[38;5;28mself\u001B[39m\u001B[38;5;241m.\u001B[39mds\u001B[38;5;241m.\u001B[39mfilepath()\n\u001B[0;32m    358\u001B[0m \u001B[38;5;28mself\u001B[39m\u001B[38;5;241m.\u001B[39mis_remote \u001B[38;5;241m=\u001B[39m is_remote_uri(\u001B[38;5;28mself\u001B[39m\u001B[38;5;241m.\u001B[39m_filename)\n",
      "File \u001B[1;32m~\\PycharmProjects\\EarthSystemDataProcessing\\ESDP1\\.venv\\Lib\\site-packages\\xarray\\backends\\netCDF4_.py:418\u001B[0m, in \u001B[0;36mNetCDF4DataStore.ds\u001B[1;34m(self)\u001B[0m\n\u001B[0;32m    416\u001B[0m \u001B[38;5;129m@property\u001B[39m\n\u001B[0;32m    417\u001B[0m \u001B[38;5;28;01mdef\u001B[39;00m \u001B[38;5;21mds\u001B[39m(\u001B[38;5;28mself\u001B[39m):\n\u001B[1;32m--> 418\u001B[0m     \u001B[38;5;28;01mreturn\u001B[39;00m \u001B[38;5;28;43mself\u001B[39;49m\u001B[38;5;241;43m.\u001B[39;49m\u001B[43m_acquire\u001B[49m\u001B[43m(\u001B[49m\u001B[43m)\u001B[49m\n",
      "File \u001B[1;32m~\\PycharmProjects\\EarthSystemDataProcessing\\ESDP1\\.venv\\Lib\\site-packages\\xarray\\backends\\netCDF4_.py:412\u001B[0m, in \u001B[0;36mNetCDF4DataStore._acquire\u001B[1;34m(self, needs_lock)\u001B[0m\n\u001B[0;32m    411\u001B[0m \u001B[38;5;28;01mdef\u001B[39;00m \u001B[38;5;21m_acquire\u001B[39m(\u001B[38;5;28mself\u001B[39m, needs_lock\u001B[38;5;241m=\u001B[39m\u001B[38;5;28;01mTrue\u001B[39;00m):\n\u001B[1;32m--> 412\u001B[0m \u001B[43m    \u001B[49m\u001B[38;5;28;43;01mwith\u001B[39;49;00m\u001B[43m \u001B[49m\u001B[38;5;28;43mself\u001B[39;49m\u001B[38;5;241;43m.\u001B[39;49m\u001B[43m_manager\u001B[49m\u001B[38;5;241;43m.\u001B[39;49m\u001B[43macquire_context\u001B[49m\u001B[43m(\u001B[49m\u001B[43mneeds_lock\u001B[49m\u001B[43m)\u001B[49m\u001B[43m \u001B[49m\u001B[38;5;28;43;01mas\u001B[39;49;00m\u001B[43m \u001B[49m\u001B[43mroot\u001B[49m\u001B[43m:\u001B[49m\n\u001B[0;32m    413\u001B[0m \u001B[43m        \u001B[49m\u001B[43mds\u001B[49m\u001B[43m \u001B[49m\u001B[38;5;241;43m=\u001B[39;49m\u001B[43m \u001B[49m\u001B[43m_nc4_require_group\u001B[49m\u001B[43m(\u001B[49m\u001B[43mroot\u001B[49m\u001B[43m,\u001B[49m\u001B[43m \u001B[49m\u001B[38;5;28;43mself\u001B[39;49m\u001B[38;5;241;43m.\u001B[39;49m\u001B[43m_group\u001B[49m\u001B[43m,\u001B[49m\u001B[43m \u001B[49m\u001B[38;5;28;43mself\u001B[39;49m\u001B[38;5;241;43m.\u001B[39;49m\u001B[43m_mode\u001B[49m\u001B[43m)\u001B[49m\n\u001B[0;32m    414\u001B[0m     \u001B[38;5;28;01mreturn\u001B[39;00m ds\n",
      "File \u001B[1;32mC:\\Program Files\\Python312\\Lib\\contextlib.py:137\u001B[0m, in \u001B[0;36m_GeneratorContextManager.__enter__\u001B[1;34m(self)\u001B[0m\n\u001B[0;32m    135\u001B[0m \u001B[38;5;28;01mdel\u001B[39;00m \u001B[38;5;28mself\u001B[39m\u001B[38;5;241m.\u001B[39margs, \u001B[38;5;28mself\u001B[39m\u001B[38;5;241m.\u001B[39mkwds, \u001B[38;5;28mself\u001B[39m\u001B[38;5;241m.\u001B[39mfunc\n\u001B[0;32m    136\u001B[0m \u001B[38;5;28;01mtry\u001B[39;00m:\n\u001B[1;32m--> 137\u001B[0m     \u001B[38;5;28;01mreturn\u001B[39;00m \u001B[38;5;28;43mnext\u001B[39;49m\u001B[43m(\u001B[49m\u001B[38;5;28;43mself\u001B[39;49m\u001B[38;5;241;43m.\u001B[39;49m\u001B[43mgen\u001B[49m\u001B[43m)\u001B[49m\n\u001B[0;32m    138\u001B[0m \u001B[38;5;28;01mexcept\u001B[39;00m \u001B[38;5;167;01mStopIteration\u001B[39;00m:\n\u001B[0;32m    139\u001B[0m     \u001B[38;5;28;01mraise\u001B[39;00m \u001B[38;5;167;01mRuntimeError\u001B[39;00m(\u001B[38;5;124m\"\u001B[39m\u001B[38;5;124mgenerator didn\u001B[39m\u001B[38;5;124m'\u001B[39m\u001B[38;5;124mt yield\u001B[39m\u001B[38;5;124m\"\u001B[39m) \u001B[38;5;28;01mfrom\u001B[39;00m \u001B[38;5;28;01mNone\u001B[39;00m\n",
      "File \u001B[1;32m~\\PycharmProjects\\EarthSystemDataProcessing\\ESDP1\\.venv\\Lib\\site-packages\\xarray\\backends\\file_manager.py:199\u001B[0m, in \u001B[0;36mCachingFileManager.acquire_context\u001B[1;34m(self, needs_lock)\u001B[0m\n\u001B[0;32m    196\u001B[0m \u001B[38;5;129m@contextlib\u001B[39m\u001B[38;5;241m.\u001B[39mcontextmanager\n\u001B[0;32m    197\u001B[0m \u001B[38;5;28;01mdef\u001B[39;00m \u001B[38;5;21macquire_context\u001B[39m(\u001B[38;5;28mself\u001B[39m, needs_lock\u001B[38;5;241m=\u001B[39m\u001B[38;5;28;01mTrue\u001B[39;00m):\n\u001B[0;32m    198\u001B[0m \u001B[38;5;250m    \u001B[39m\u001B[38;5;124;03m\"\"\"Context manager for acquiring a file.\"\"\"\u001B[39;00m\n\u001B[1;32m--> 199\u001B[0m     file, cached \u001B[38;5;241m=\u001B[39m \u001B[38;5;28;43mself\u001B[39;49m\u001B[38;5;241;43m.\u001B[39;49m\u001B[43m_acquire_with_cache_info\u001B[49m\u001B[43m(\u001B[49m\u001B[43mneeds_lock\u001B[49m\u001B[43m)\u001B[49m\n\u001B[0;32m    200\u001B[0m     \u001B[38;5;28;01mtry\u001B[39;00m:\n\u001B[0;32m    201\u001B[0m         \u001B[38;5;28;01myield\u001B[39;00m file\n",
      "File \u001B[1;32m~\\PycharmProjects\\EarthSystemDataProcessing\\ESDP1\\.venv\\Lib\\site-packages\\xarray\\backends\\file_manager.py:217\u001B[0m, in \u001B[0;36mCachingFileManager._acquire_with_cache_info\u001B[1;34m(self, needs_lock)\u001B[0m\n\u001B[0;32m    215\u001B[0m     kwargs \u001B[38;5;241m=\u001B[39m kwargs\u001B[38;5;241m.\u001B[39mcopy()\n\u001B[0;32m    216\u001B[0m     kwargs[\u001B[38;5;124m\"\u001B[39m\u001B[38;5;124mmode\u001B[39m\u001B[38;5;124m\"\u001B[39m] \u001B[38;5;241m=\u001B[39m \u001B[38;5;28mself\u001B[39m\u001B[38;5;241m.\u001B[39m_mode\n\u001B[1;32m--> 217\u001B[0m file \u001B[38;5;241m=\u001B[39m \u001B[38;5;28;43mself\u001B[39;49m\u001B[38;5;241;43m.\u001B[39;49m\u001B[43m_opener\u001B[49m\u001B[43m(\u001B[49m\u001B[38;5;241;43m*\u001B[39;49m\u001B[38;5;28;43mself\u001B[39;49m\u001B[38;5;241;43m.\u001B[39;49m\u001B[43m_args\u001B[49m\u001B[43m,\u001B[49m\u001B[43m \u001B[49m\u001B[38;5;241;43m*\u001B[39;49m\u001B[38;5;241;43m*\u001B[39;49m\u001B[43mkwargs\u001B[49m\u001B[43m)\u001B[49m\n\u001B[0;32m    218\u001B[0m \u001B[38;5;28;01mif\u001B[39;00m \u001B[38;5;28mself\u001B[39m\u001B[38;5;241m.\u001B[39m_mode \u001B[38;5;241m==\u001B[39m \u001B[38;5;124m\"\u001B[39m\u001B[38;5;124mw\u001B[39m\u001B[38;5;124m\"\u001B[39m:\n\u001B[0;32m    219\u001B[0m     \u001B[38;5;66;03m# ensure file doesn't get overridden when opened again\u001B[39;00m\n\u001B[0;32m    220\u001B[0m     \u001B[38;5;28mself\u001B[39m\u001B[38;5;241m.\u001B[39m_mode \u001B[38;5;241m=\u001B[39m \u001B[38;5;124m\"\u001B[39m\u001B[38;5;124ma\u001B[39m\u001B[38;5;124m\"\u001B[39m\n",
      "File \u001B[1;32msrc\\\\netCDF4\\\\_netCDF4.pyx:2469\u001B[0m, in \u001B[0;36mnetCDF4._netCDF4.Dataset.__init__\u001B[1;34m()\u001B[0m\n",
      "File \u001B[1;32msrc\\\\netCDF4\\\\_netCDF4.pyx:2028\u001B[0m, in \u001B[0;36mnetCDF4._netCDF4._ensure_nc_success\u001B[1;34m()\u001B[0m\n",
      "\u001B[1;31mFileNotFoundError\u001B[0m: [Errno 2] No such file or directory: 'C:\\\\mnt\\\\c\\\\users\\\\maoka\\\\PycharmProjects\\\\EarthSystemDataProcessing\\\\ESDP1\\\\output\\\\regrid_data.nc'"
     ]
    }
   ],
   "execution_count": 27
  },
  {
   "metadata": {},
   "cell_type": "code",
   "outputs": [],
   "execution_count": null,
   "source": "",
   "id": "c940bce0cd3c24b1"
  }
 ],
 "metadata": {
  "kernelspec": {
   "display_name": "Python 3",
   "language": "python",
   "name": "python3"
  },
  "language_info": {
   "codemirror_mode": {
    "name": "ipython",
    "version": 2
   },
   "file_extension": ".py",
   "mimetype": "text/x-python",
   "name": "python",
   "nbconvert_exporter": "python",
   "pygments_lexer": "ipython2",
   "version": "2.7.6"
  }
 },
 "nbformat": 4,
 "nbformat_minor": 5
}
